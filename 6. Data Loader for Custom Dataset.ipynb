{
 "cells": [
  {
   "cell_type": "code",
   "execution_count": 1,
   "id": "e2dff68a",
   "metadata": {},
   "outputs": [],
   "source": [
    "import torch\n",
    "import torch.utils.data as Data"
   ]
  },
  {
   "cell_type": "code",
   "execution_count": 12,
   "id": "6050eeec",
   "metadata": {},
   "outputs": [
    {
     "data": {
      "text/plain": [
       "tensor([[ 1., 10.],\n",
       "        [ 2.,  9.],\n",
       "        [ 3.,  8.],\n",
       "        [ 4.,  7.],\n",
       "        [ 5.,  6.],\n",
       "        [ 6.,  5.],\n",
       "        [ 7.,  4.],\n",
       "        [ 8.,  3.],\n",
       "        [ 9.,  2.],\n",
       "        [10.,  1.]])"
      ]
     },
     "execution_count": 12,
     "metadata": {},
     "output_type": "execute_result"
    }
   ],
   "source": [
    "x=torch.linspace(1,10,10)\n",
    "y=torch.linspace(10,1,10)\n",
    "\n",
    "\n",
    "torch.cat((x.view(len(x),-1),y.view(len(y),-1)),1)\n"
   ]
  },
  {
   "cell_type": "code",
   "execution_count": 13,
   "id": "f1c024e4",
   "metadata": {},
   "outputs": [],
   "source": [
    "dataset=Data.TensorDataset(x,y)"
   ]
  },
  {
   "cell_type": "code",
   "execution_count": 14,
   "id": "bf24e33d",
   "metadata": {},
   "outputs": [],
   "source": [
    "## Dataloader usage"
   ]
  },
  {
   "cell_type": "code",
   "execution_count": 15,
   "id": "1ae696ad",
   "metadata": {},
   "outputs": [],
   "source": [
    "batch_size=5\n",
    "\n",
    "loader=Data.DataLoader(dataset=dataset,\\\n",
    "                      batch_size=5,\n",
    "                      shuffle=True,\n",
    "                      num_workers=2)\n"
   ]
  },
  {
   "cell_type": "code",
   "execution_count": 16,
   "id": "6ad065c5",
   "metadata": {},
   "outputs": [
    {
     "name": "stdout",
     "output_type": "stream",
     "text": [
      "Epoch 0\n",
      "X [6. 5. 2. 7. 4.]\n",
      "y [5. 6. 9. 4. 7.]\n",
      "Epoch 1\n",
      "X [ 9.  3.  1.  8. 10.]\n",
      "y [ 2.  8. 10.  3.  1.]\n",
      "Epoch 0\n",
      "X [ 9. 10.  4.  6.  8.]\n",
      "y [2. 1. 7. 5. 3.]\n",
      "Epoch 1\n",
      "X [1. 2. 3. 5. 7.]\n",
      "y [10.  9.  8.  6.  4.]\n",
      "Epoch 0\n",
      "X [7. 1. 5. 2. 8.]\n",
      "y [ 4. 10.  6.  9.  3.]\n",
      "Epoch 1\n",
      "X [ 4.  6.  9. 10.  3.]\n",
      "y [7. 5. 2. 1. 8.]\n",
      "Epoch 0\n",
      "X [ 7.  6.  2.  3. 10.]\n",
      "y [4. 5. 9. 8. 1.]\n",
      "Epoch 1\n",
      "X [1. 8. 4. 9. 5.]\n",
      "y [10.  3.  7.  2.  6.]\n",
      "Epoch 0\n",
      "X [ 5.  8.  6. 10.  3.]\n",
      "y [6. 3. 5. 1. 8.]\n",
      "Epoch 1\n",
      "X [4. 7. 2. 1. 9.]\n",
      "y [ 7.  4.  9. 10.  2.]\n",
      "Epoch 0\n",
      "X [6. 9. 7. 4. 8.]\n",
      "y [5. 2. 4. 7. 3.]\n",
      "Epoch 1\n",
      "X [ 5.  2.  1. 10.  3.]\n",
      "y [ 6.  9. 10.  1.  8.]\n",
      "Epoch 0\n",
      "X [5. 1. 3. 6. 2.]\n",
      "y [ 6. 10.  8.  5.  9.]\n",
      "Epoch 1\n",
      "X [ 4.  9.  7. 10.  8.]\n",
      "y [7. 2. 4. 1. 3.]\n",
      "Epoch 0\n",
      "X [ 9.  1.  2. 10.  4.]\n",
      "y [ 2. 10.  9.  1.  7.]\n",
      "Epoch 1\n",
      "X [7. 3. 5. 6. 8.]\n",
      "y [4. 8. 6. 5. 3.]\n",
      "Epoch 0\n",
      "X [ 5.  3. 10.  7.  6.]\n",
      "y [6. 8. 1. 4. 5.]\n",
      "Epoch 1\n",
      "X [8. 4. 2. 9. 1.]\n",
      "y [ 3.  7.  9.  2. 10.]\n",
      "Epoch 0\n",
      "X [ 8.  4.  3.  1. 10.]\n",
      "y [ 3.  7.  8. 10.  1.]\n",
      "Epoch 1\n",
      "X [5. 2. 9. 6. 7.]\n",
      "y [6. 9. 2. 5. 4.]\n"
     ]
    }
   ],
   "source": [
    "for epochs in range(10):\n",
    "    for step, (batch_x,batch_y) in enumerate(loader):\n",
    "        \n",
    "        print('Epoch',step)\n",
    "        print('X',batch_x.data.numpy())\n",
    "        print('y',batch_y.data.numpy())"
   ]
  },
  {
   "cell_type": "code",
   "execution_count": null,
   "id": "5aefe943",
   "metadata": {},
   "outputs": [],
   "source": []
  }
 ],
 "metadata": {
  "kernelspec": {
   "display_name": "Python 3 (ipykernel)",
   "language": "python",
   "name": "python3"
  },
  "language_info": {
   "codemirror_mode": {
    "name": "ipython",
    "version": 3
   },
   "file_extension": ".py",
   "mimetype": "text/x-python",
   "name": "python",
   "nbconvert_exporter": "python",
   "pygments_lexer": "ipython3",
   "version": "3.9.7"
  }
 },
 "nbformat": 4,
 "nbformat_minor": 5
}
